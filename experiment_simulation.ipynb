{
 "cells": [
  {
   "cell_type": "code",
   "execution_count": 1,
   "metadata": {},
   "outputs": [],
   "source": [
    "import numpy as np\n",
    "import pandas as pd\n",
    "import matplotlib.pyplot as plt"
   ]
  },
  {
   "cell_type": "code",
   "execution_count": 2,
   "metadata": {},
   "outputs": [
    {
     "data": {
      "text/html": [
       "<div>\n",
       "<style scoped>\n",
       "    .dataframe tbody tr th:only-of-type {\n",
       "        vertical-align: middle;\n",
       "    }\n",
       "\n",
       "    .dataframe tbody tr th {\n",
       "        vertical-align: top;\n",
       "    }\n",
       "\n",
       "    .dataframe thead th {\n",
       "        text-align: right;\n",
       "    }\n",
       "</style>\n",
       "<table border=\"1\" class=\"dataframe\">\n",
       "  <thead>\n",
       "    <tr style=\"text-align: right;\">\n",
       "      <th></th>\n",
       "      <th>user_id</th>\n",
       "      <th>page_version</th>\n",
       "      <th>clickthrough</th>\n",
       "      <th>convert</th>\n",
       "      <th>revenue</th>\n",
       "    </tr>\n",
       "  </thead>\n",
       "  <tbody>\n",
       "    <tr>\n",
       "      <th>10650</th>\n",
       "      <td>10650</td>\n",
       "      <td>2</td>\n",
       "      <td>1</td>\n",
       "      <td>1</td>\n",
       "      <td>20</td>\n",
       "    </tr>\n",
       "    <tr>\n",
       "      <th>2041</th>\n",
       "      <td>2041</td>\n",
       "      <td>1</td>\n",
       "      <td>0</td>\n",
       "      <td>0</td>\n",
       "      <td>0</td>\n",
       "    </tr>\n",
       "    <tr>\n",
       "      <th>8668</th>\n",
       "      <td>8668</td>\n",
       "      <td>1</td>\n",
       "      <td>0</td>\n",
       "      <td>0</td>\n",
       "      <td>0</td>\n",
       "    </tr>\n",
       "    <tr>\n",
       "      <th>1114</th>\n",
       "      <td>1114</td>\n",
       "      <td>1</td>\n",
       "      <td>1</td>\n",
       "      <td>0</td>\n",
       "      <td>0</td>\n",
       "    </tr>\n",
       "    <tr>\n",
       "      <th>13902</th>\n",
       "      <td>13902</td>\n",
       "      <td>2</td>\n",
       "      <td>0</td>\n",
       "      <td>0</td>\n",
       "      <td>0</td>\n",
       "    </tr>\n",
       "  </tbody>\n",
       "</table>\n",
       "</div>"
      ],
      "text/plain": [
       "       user_id  page_version  clickthrough  convert  revenue\n",
       "10650    10650             2             1        1       20\n",
       "2041      2041             1             0        0        0\n",
       "8668      8668             1             0        0        0\n",
       "1114      1114             1             1        0        0\n",
       "13902    13902             2             0        0        0"
      ]
     },
     "execution_count": 2,
     "metadata": {},
     "output_type": "execute_result"
    }
   ],
   "source": [
    "def create_data(version_1_sample=1200, version_2_sample=1200):\n",
    "    '''\n",
    "    inputs:\n",
    "        version_1_sample: (int) number of people given landing page version 1\n",
    "        version_2_sample: (int) number of people given landing page version 2\n",
    "\n",
    "    returns:\n",
    "        df: (DataFrame) with the description given below\n",
    "        \n",
    "    This function builds a dataframe with columns for:\n",
    "\n",
    "                |              |              |         |\n",
    "        user_id | page_version | clickthrough | convert | revenue\n",
    "        ----------------------------------------------------------\n",
    "\n",
    "    user_id: (int) a unique user id\n",
    "    page_version: (int) the page version is either landing page version 1 or 2\n",
    "    clickthrough: (int) is whether or not the user clicked through the homepage 0 or 1\n",
    "    convert: (int) is whether or not the user converted 0 or 1\n",
    "    revenue: (int) is a dollar amount associated with the product conversion amount\n",
    "    \n",
    "    '''\n",
    "    np.random.seed(42) # set the seed to always create the same dataframe\n",
    "    df = pd.DataFrame() # create an empty dataframe to store the results\n",
    "\n",
    "    # create user and version columns\n",
    "    df['user_id'] = list(range(version_1_sample + version_2_sample))\n",
    "    df['page_version'] = list(np.repeat(1, version_1_sample)) + list(np.repeat(2, version_2_sample))\n",
    "\n",
    "    # values for the convert column\n",
    "    result_1 = np.random.binomial(1, 0.10, version_1_sample)\n",
    "    result_2 = np.random.binomial(1, 0.07, version_2_sample)\n",
    "    df['convert'] = list(result_1) + list(result_2)\n",
    "\n",
    "    # values for the clickthrough from the landing page\n",
    "    df['clickthrough'] = df['convert']\n",
    "    for idx in df.query('clickthrough == 0').index:\n",
    "        df.loc[idx, 'clickthrough'] = np.random.binomial(1, 0.3, 1)[0]\n",
    "\n",
    "    # values for the revenue column\n",
    "    df['revenue'] = 0\n",
    "    product_prices = [20, 40, 60, 80, 100, 150]\n",
    "    odds_result_1 = [0.5, 0.2, 0.1, 0.1, 0.05, 0.05]\n",
    "    odds_result_2 = [0.3, 0.1, 0.1, 0.1, 0.2, 0.2]\n",
    "    for idx in df.query('convert == 1 and page_version == 1').index:\n",
    "        df.loc[idx, 'revenue'] = np.random.choice(product_prices, 1, p=odds_result_1)    \n",
    "    for idx in df.query('convert == 1 and page_version == 2').index:\n",
    "        df.loc[idx, 'revenue'] = np.random.choice(product_prices, 1, p=odds_result_2)    \n",
    "\n",
    "    # shuffle the order of the dataframe  rows and reorder the columns\n",
    "    df = df.sample(frac=1, random_state=42)\n",
    "    df = df[['user_id', 'page_version', 'clickthrough', 'convert' , 'revenue']]\n",
    "\n",
    "    return df\n",
    "\n",
    "df = create_data(10000, 10000)\n",
    "df.head()"
   ]
  },
  {
   "cell_type": "code",
   "execution_count": 3,
   "metadata": {},
   "outputs": [
    {
     "data": {
      "text/plain": [
       "(4.202, 5.316)"
      ]
     },
     "execution_count": 3,
     "metadata": {},
     "output_type": "execute_result"
    }
   ],
   "source": [
    "df.query('page_version == 1')['revenue'].mean(), df.query('page_version == 2').revenue.mean()"
   ]
  },
  {
   "cell_type": "code",
   "execution_count": 4,
   "metadata": {},
   "outputs": [
    {
     "data": {
      "text/plain": [
       "(10000, 10000)"
      ]
     },
     "execution_count": 4,
     "metadata": {},
     "output_type": "execute_result"
    }
   ],
   "source": [
    "df.query('page_version == 1')['revenue'].count(), df.query('page_version == 2').revenue.count()"
   ]
  },
  {
   "cell_type": "code",
   "execution_count": 5,
   "metadata": {},
   "outputs": [
    {
     "data": {
      "text/plain": [
       "(271.0503010301234, 530.2731713170944)"
      ]
     },
     "execution_count": 5,
     "metadata": {},
     "output_type": "execute_result"
    }
   ],
   "source": [
    "df.query('page_version == 1')['revenue'].var(), df.query('page_version == 2').revenue.var()"
   ]
  },
  {
   "cell_type": "code",
   "execution_count": 6,
   "metadata": {},
   "outputs": [
    {
     "data": {
      "text/plain": [
       "Ttest_indResult(statistic=-3.9353309278564597, pvalue=8.336307006191437e-05)"
      ]
     },
     "execution_count": 6,
     "metadata": {},
     "output_type": "execute_result"
    }
   ],
   "source": [
    "from scipy import stats\n",
    "\n",
    "stats.ttest_ind(df.query('page_version == 1').revenue, df.query('page_version == 2').revenue)"
   ]
  },
  {
   "cell_type": "code",
   "execution_count": 8,
   "metadata": {},
   "outputs": [
    {
     "data": {
      "text/plain": [
       "0.2830765748604491"
      ]
     },
     "execution_count": 8,
     "metadata": {},
     "output_type": "execute_result"
    }
   ],
   "source": [
    "(df.query('page_version == 1').revenue.mean() - df.query('page_version == 2')['revenue'].mean())/-3.9353309278564597"
   ]
  },
  {
   "cell_type": "code",
   "execution_count": 9,
   "metadata": {},
   "outputs": [
    {
     "data": {
      "text/plain": [
       "(-0.5478468502791016, -1.6801531497208981)"
      ]
     },
     "execution_count": 9,
     "metadata": {},
     "output_type": "execute_result"
    }
   ],
   "source": [
    "((df.query('page_version == 1').revenue.mean() - df.query('page_version == 2')['revenue'].mean())+2*0.2830765748604491, (df.query('page_version == 1').revenue.mean() - df.query('page_version == 2')['revenue'].mean())-2*0.2830765748604491)"
   ]
  },
  {
   "cell_type": "code",
   "execution_count": 10,
   "metadata": {},
   "outputs": [],
   "source": [
    "def bootstrap_function(df, num_samples=10000):\n",
    "    diffs = []\n",
    "    rev_avgs_1 = []\n",
    "    rev_avgs_2 = []\n",
    "    for idx in range(num_samples):\n",
    "        df_sample = df.sample(n=df.shape[0], replace=True)\n",
    "        rev_avg_1 = df_sample.query('page_version == 1')['revenue'].mean()\n",
    "        rev_avg_2 = df_sample.query('page_version == 2')['revenue'].mean()\n",
    "        \n",
    "        rev_avgs_1.append(rev_avg_1)\n",
    "        rev_avgs_2.append(rev_avg_2)\n",
    "        diffs.append(rev_avg_1 - rev_avg_2)\n",
    "        \n",
    "    return diffs, rev_avgs_1, rev_avgs_2\n",
    "\n",
    "diffs, rev_avgs_1, rev_avgs_2 = bootstrap_function(df)"
   ]
  },
  {
   "cell_type": "code",
   "execution_count": 11,
   "metadata": {},
   "outputs": [
    {
     "name": "stdout",
     "output_type": "stream",
     "text": [
      "-0.55 -1.68\n"
     ]
    },
    {
     "data": {
      "image/png": "[encoded data removed]",
      "text/plain": [
       "<Figure size 1080x360 with 1 Axes>"
      ]
     },
     "metadata": {
      "needs_background": "light"
     },
     "output_type": "display_data"
    },
    {
     "data": {
      "image/png": "[encoded data removed]",
      "text/plain": [
       "<Figure size 1080x360 with 1 Axes>"
      ]
     },
     "metadata": {
      "needs_background": "light"
     },
     "output_type": "display_data"
    }
   ],
   "source": [
    "def plot_results(diffs, revs1, revs2):\n",
    "    '''\n",
    "    inputs:\n",
    "        diffs: (list) difference in the average revenue for page_versions\n",
    "        rev_avgs_1: (list) average revenue for page_version 1\n",
    "        rev_avgs_2: (list) average revenue for page_version 2\n",
    "    returns: \n",
    "        None\n",
    "    '''\n",
    "    ### diffs hist ###\n",
    "    # create the figure size\n",
    "    plt.figure(figsize=(15,5))\n",
    "\n",
    "    # find lower and upper bounds\n",
    "    upper = np.round(np.percentile(diffs, 97.5), 2)\n",
    "    lower = np.round(np.percentile(diffs, 2.5), 2)\n",
    "    print(upper, lower)\n",
    "    \n",
    "    # plot lower, upper, and null value\n",
    "    plt.axvline(upper, 0, 1, color='blue', linestyle = '--', label='95% bounds for diff in means \\n at {} and {}.'.format(np.round(lower,2), np.round(upper,2)))\n",
    "    plt.axvline(lower, 0, 1, color='blue', linestyle = '--')\n",
    "    plt.axvline(0, 0, 1, color='red')\n",
    "\n",
    "    # plot diffs\n",
    "    plt.hist(diffs, bins=20, density=True);\n",
    "    plt.title('Histogram of the Bootstrap Difference in Means Between Version 1 and Version 2');\n",
    "    plt.xlabel('Difference in Means (Dollars)');\n",
    "    plt.grid(False);\n",
    "\n",
    "    plt.legend();\n",
    "    plt.show();\n",
    "    \n",
    "    ### average hists ###\n",
    "    # create the figure size\n",
    "    plt.figure(figsize=(15,5))\n",
    "    \n",
    "    plt.hist(revs1, bins=20, label='Version 1', alpha=0.7, density=True);\n",
    "    plt.hist(revs2, bins=20, label='Version 2', alpha=0.7, density=True);\n",
    "    plt.title('Plot the Average Revenue for Version');\n",
    "    plt.xlabel('Dollars');\n",
    "    plt.grid(False);\n",
    "        \n",
    "    plt.legend();\n",
    "    plt.show();\n",
    "    \n",
    "plot_results(diffs, rev_avgs_1, rev_avgs_2)"
   ]
  },
  {
   "cell_type": "code",
   "execution_count": 50,
   "metadata": {},
   "outputs": [
    {
     "data": {
      "image/png": "[encoded data removed]",
      "text/plain": [
       "<Figure size 720x432 with 1 Axes>"
      ]
     },
     "metadata": {
      "needs_background": "light"
     },
     "output_type": "display_data"
    }
   ],
   "source": [
    "    plt.figure(figsize=(15,5))\n",
    "\n",
    "    upper = np.round(np.percentile(diffs, 97.5), 2)\n",
    "    lower = np.round(np.percentile(diffs, 2.5), 2)\n",
    "    plt.axvline(upper, 0, 1, color='blue', linestyle = '--', label='95% bounds for diff in means \\n at {} and {}.'.format(np.round(lower,2), np.round(upper,2)))\n",
    "    plt.axvline(lower, 0, 1, color='blue', linestyle = '--')\n",
    "    plt.axvline(0, 0, 1, color='red')\n",
    "\n",
    "    plt.hist(diffs, bins=20, density=True);\n",
    "    plt.title('Histogram of the Bootstrap Difference in Means Between Version 1 and Version 2');\n",
    "    plt.xlabel('Difference in Means (Dollars)');\n",
    "    plt.grid(False);\n",
    "\n",
    "    plt.legend();\n",
    "    plt.show();"
   ]
  },
  {
   "cell_type": "code",
   "execution_count": 25,
   "metadata": {},
   "outputs": [
    {
     "data": {
      "text/html": [
       "<div>\n",
       "<style scoped>\n",
       "    .dataframe tbody tr th:only-of-type {\n",
       "        vertical-align: middle;\n",
       "    }\n",
       "\n",
       "    .dataframe tbody tr th {\n",
       "        vertical-align: top;\n",
       "    }\n",
       "\n",
       "    .dataframe thead th {\n",
       "        text-align: right;\n",
       "    }\n",
       "</style>\n",
       "<table border=\"1\" class=\"dataframe\">\n",
       "  <thead>\n",
       "    <tr style=\"text-align: right;\">\n",
       "      <th></th>\n",
       "      <th>user_id</th>\n",
       "      <th>page_version</th>\n",
       "      <th>clickthrough</th>\n",
       "      <th>convert</th>\n",
       "      <th>revenue</th>\n",
       "    </tr>\n",
       "  </thead>\n",
       "  <tbody>\n",
       "    <tr>\n",
       "      <th>1860</th>\n",
       "      <td>1860</td>\n",
       "      <td>2</td>\n",
       "      <td>0</td>\n",
       "      <td>0</td>\n",
       "      <td>0</td>\n",
       "    </tr>\n",
       "    <tr>\n",
       "      <th>353</th>\n",
       "      <td>353</td>\n",
       "      <td>1</td>\n",
       "      <td>1</td>\n",
       "      <td>0</td>\n",
       "      <td>0</td>\n",
       "    </tr>\n",
       "    <tr>\n",
       "      <th>1333</th>\n",
       "      <td>1333</td>\n",
       "      <td>2</td>\n",
       "      <td>0</td>\n",
       "      <td>0</td>\n",
       "      <td>0</td>\n",
       "    </tr>\n",
       "    <tr>\n",
       "      <th>905</th>\n",
       "      <td>905</td>\n",
       "      <td>1</td>\n",
       "      <td>0</td>\n",
       "      <td>0</td>\n",
       "      <td>0</td>\n",
       "    </tr>\n",
       "    <tr>\n",
       "      <th>1289</th>\n",
       "      <td>1289</td>\n",
       "      <td>2</td>\n",
       "      <td>1</td>\n",
       "      <td>0</td>\n",
       "      <td>0</td>\n",
       "    </tr>\n",
       "  </tbody>\n",
       "</table>\n",
       "</div>"
      ],
      "text/plain": [
       "      user_id  page_version  clickthrough  convert  revenue\n",
       "1860     1860             2             0        0        0\n",
       "353       353             1             1        0        0\n",
       "1333     1333             2             0        0        0\n",
       "905       905             1             0        0        0\n",
       "1289     1289             2             1        0        0"
      ]
     },
     "execution_count": 25,
     "metadata": {},
     "output_type": "execute_result"
    }
   ],
   "source": [
    "def create_data(version_1_sample=1200, version_2_sample=1200):\n",
    "    '''\n",
    "    inputs:\n",
    "        version_1_sample: (int) number of people given landing page version 1\n",
    "        version_2_sample: (int) number of people given landing page version 2\n",
    "\n",
    "    returns:\n",
    "        df: (DataFrame) with the description given below\n",
    "        \n",
    "    This function builds a dataframe with columns for:\n",
    "\n",
    "                |              |              |         |\n",
    "        user_id | page_version | clickthrough | convert | revenue\n",
    "        ----------------------------------------------------------\n",
    "\n",
    "    user_id: (int) a unique user id\n",
    "    page_version: (int) the page version is either landing page version 1 or 2\n",
    "    clickthrough: (int) is whether or not the user clicked through the homepage 0 or 1\n",
    "    convert: (int) is whether or not the user converted 0 or 1\n",
    "    revenue: (int) is a dollar amount associated with the product conversion amount\n",
    "    \n",
    "    '''\n",
    "    np.random.seed(42) # set the seed to always create the same dataframe\n",
    "    df = pd.DataFrame() # create an empty dataframe to store the results\n",
    "\n",
    "    # create user and version columns\n",
    "    df['user_id'] = list(range(version_1_sample + version_2_sample))\n",
    "    df['page_version'] = list(np.repeat(1, version_1_sample)) + list(np.repeat(2, version_2_sample))\n",
    "\n",
    "    # values for the convert column\n",
    "    result_1 = np.random.binomial(1, 0.001, version_1_sample)\n",
    "    result_2 = np.random.binomial(1, 0.0015, version_2_sample)\n",
    "    df['convert'] = list(result_1) + list(result_2)\n",
    "\n",
    "    # values for the clickthrough from the landing page\n",
    "    df['clickthrough'] = df['convert']\n",
    "    for idx in df.query('clickthrough == 0').index:\n",
    "        df.loc[idx, 'clickthrough'] = np.random.binomial(1, 0.3, 1)[0]\n",
    "\n",
    "    # values for the revenue column\n",
    "    df['revenue'] = 0\n",
    "    product_prices = [20, 40, 60, 80, 100, 150]\n",
    "    odds_result_1 = [0.5, 0.2, 0.1, 0.1, 0.05, 0.05]\n",
    "    odds_result_2 = [0.3, 0.1, 0.1, 0.1, 0.2, 0.2]\n",
    "    for idx in df.query('convert == 1 and page_version == 1').index:\n",
    "        df.loc[idx, 'revenue'] = np.random.choice(product_prices, 1, p=odds_result_1)    \n",
    "    for idx in df.query('convert == 1 and page_version == 2').index:\n",
    "        df.loc[idx, 'revenue'] = np.random.choice(product_prices, 1, p=odds_result_2)    \n",
    "\n",
    "    # shuffle the order of the dataframe  rows and reorder the columns\n",
    "    df = df.sample(frac=1, random_state=42)\n",
    "    df = df[['user_id', 'page_version', 'clickthrough', 'convert' , 'revenue']]\n",
    "\n",
    "    return df\n",
    "\n",
    "df = create_data(1000, 1000)\n",
    "df.head()"
   ]
  },
  {
   "cell_type": "code",
   "execution_count": 26,
   "metadata": {},
   "outputs": [
    {
     "data": {
      "text/plain": [
       "(0.001, 0.03162277660168402)"
      ]
     },
     "execution_count": 26,
     "metadata": {},
     "output_type": "execute_result"
    }
   ],
   "source": [
    "df.query('page_version == 1')['convert'].mean(), df.query('page_version == 1')['convert'].std()"
   ]
  },
  {
   "cell_type": "code",
   "execution_count": 28,
   "metadata": {},
   "outputs": [
    {
     "data": {
      "text/plain": [
       "(0.0030000000000000144, -0.0010000000000000143)"
      ]
     },
     "execution_count": 28,
     "metadata": {},
     "output_type": "execute_result"
    }
   ],
   "source": [
    "0.001 + 2*(0.03162277660168402/np.sqrt(1000)), 0.001 - 2*(0.03162277660168402/np.sqrt(1000)) "
   ]
  },
  {
   "cell_type": "code",
   "execution_count": 38,
   "metadata": {},
   "outputs": [],
   "source": [
    "def bootstrap_function_ctr(df, num_samples=10000):\n",
    "    ctrs = []\n",
    "    for idx in range(num_samples):\n",
    "        df_sample = df.sample(n=df.shape[0], replace=True)\n",
    "        ctr = df_sample.query('page_version == 1')['convert'].mean()\n",
    "        \n",
    "        ctrs.append(ctr)\n",
    "        \n",
    "    return ctrs\n",
    "\n",
    "ctrs = bootstrap_function_ctr(df)"
   ]
  },
  {
   "cell_type": "code",
   "execution_count": 40,
   "metadata": {},
   "outputs": [
    {
     "name": "stdout",
     "output_type": "stream",
     "text": [
      "0.0031 0.0\n"
     ]
    },
    {
     "data": {
      "image/png": "[encoded data removed]",
      "text/plain": [
       "<Figure size 1080x360 with 1 Axes>"
      ]
     },
     "metadata": {
      "needs_background": "light"
     },
     "output_type": "display_data"
    }
   ],
   "source": [
    "def plot_results(ctrs):\n",
    "    '''\n",
    "    inputs:\n",
    "        diffs: (list) difference in the average revenue for page_versions\n",
    "        rev_avgs_1: (list) average revenue for page_version 1\n",
    "        rev_avgs_2: (list) average revenue for page_version 2\n",
    "    returns: \n",
    "        None\n",
    "    '''\n",
    "    ### diffs hist ###\n",
    "    # create the figure size\n",
    "    plt.figure(figsize=(15,5))\n",
    "\n",
    "    # find lower and upper bounds\n",
    "    upper = np.round(np.percentile(ctrs, 97.5), 4)\n",
    "    lower = np.round(np.percentile(ctrs, 2.5), 4)\n",
    "    print(upper, lower)\n",
    "    \n",
    "    # plot lower, upper, and null value\n",
    "    plt.axvline(upper, 0, 1, color='blue', linestyle = '--', label='95% bounds for CTR \\n at {} and {}.'.format(np.round(lower,4), np.round(upper,4)))\n",
    "    plt.axvline(lower, 0, 1, color='blue', linestyle = '--')\n",
    "\n",
    "\n",
    "    # plot diffs\n",
    "    plt.hist(ctrs, bins=5, density=True);\n",
    "    plt.title('Histogram of the Bootstrap CTRs');\n",
    "    plt.xlabel('CTRs');\n",
    "    plt.grid(False);\n",
    "\n",
    "    plt.legend();\n",
    "    plt.show();\n",
    "\n",
    "    \n",
    "plot_results(ctrs)"
   ]
  },
  {
   "cell_type": "code",
   "execution_count": null,
   "metadata": {},
   "outputs": [],
   "source": []
  }
 ],
 "metadata": {
  "kernelspec": {
   "display_name": "Python 3",
   "language": "python",
   "name": "python3"
  },
  "language_info": {
   "codemirror_mode": {
    "name": "ipython",
    "version": 3
   },
   "file_extension": ".py",
   "mimetype": "text/x-python",
   "name": "python",
   "nbconvert_exporter": "python",
   "pygments_lexer": "ipython3",
   "version": "3.7.6"
  }
 },
 "nbformat": 4,
 "nbformat_minor": 4
}
